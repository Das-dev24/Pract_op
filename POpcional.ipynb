{
 "cells": [
  {
   "attachments": {},
   "cell_type": "markdown",
   "metadata": {},
   "source": [
    "# Algoritmia\n",
    "## Práctica Opcional\n",
    "### Curso 2024 - 2025\n",
    "---\n",
    " \n",
    "\n",
    "#### Autores:\n",
    "* <>\n",
    "* <>\n",
    "\n",
    "---\n",
    "Resuelva la siguiente práctica.\n",
    "\n",
    "\n",
    "**Recuerda**: \n",
    "* Solamente puedes utilizar librerías nativas (https://docs.python.org/es/3.10/library/index.html).\n",
    "  * <sub><sup>_Importe las librerías que desees._</sup></sub>\n",
    "* Las funciones que importes no son \"gratis\", cada una tendrá una complejidad temporal y espacial que se tendrá que tener en cuenta.\n",
    "\n",
    "**Entrega**\n",
    "* Poner el nombre del fichero como: `<apellidosPrimerAlumno>_<apellidosSegundoAlumno>_opcional.ipynb`.\n",
    "    * <sub><sup>_En caso de que el fichero no tenga ese nombre, la entrega tendrá una penalización de **2 puntos**_></sup></sub>\n",
    "* Verificar que la entrega no está corrupta.\n",
    "    * <sub><sup>_En caso de que la entrega está corrupta, se evaluará con **0 puntos**_.</sup></sub>\n",
    "* Ambos alumnos tendrán que hacer la entrega.\n",
    "    * <sub><sup>_En caso de que uno no la haga se evaluará como **No presentado**, si las entregas son diferentes tendrá cada una una penalización de **2 puntos**_ y se corregirán por separado.</sup></sub>\n"
   ]
  },
  {
   "cell_type": "code",
   "execution_count": null,
   "metadata": {},
   "outputs": [],
   "source": [
    "# Importaciones"
   ]
  },
  {
   "cell_type": "markdown",
   "metadata": {},
   "source": [
    "## Descripción del problema\n",
    "\n",
    "_Inventa un problema de programación que se pueda resolver con los algoritmos vistos en la asiagnatura._\n",
    "\n",
    "**Deben al menos desarrollar tres problemas a resolver, de entre los temas 2 y 5, sin repetir tema.**"
   ]
  },
  {
   "cell_type": "markdown",
   "metadata": {},
   "source": [
    "## Implementación\n",
    "\n",
    "1. Define clases, funciones y/o métodos que consideres necesarios para resolver el problema.\n",
    "2. Implementa un algoritmo que resuelva el problema. De la forma más eficiente posible."
   ]
  },
  {
   "cell_type": "code",
   "execution_count": null,
   "metadata": {},
   "outputs": [],
   "source": []
  },
  {
   "cell_type": "markdown",
   "metadata": {},
   "source": [
    "## Test\n",
    "1. Implementa test unitarios para cada una de las funciones que hayas creado. Y describe qué hace cada uno de ellos."
   ]
  },
  {
   "cell_type": "code",
   "execution_count": null,
   "metadata": {},
   "outputs": [],
   "source": []
  },
  {
   "cell_type": "markdown",
   "metadata": {},
   "source": [
    "## Informe.\n",
    "\n",
    "_Justifique la respuesta_\n",
    "\n",
    "1. Describa la complejidad temporal de tus implementaciones.\n",
    "2. Justifique por qué ha elegido los algoritmos que has elegido.\n",
    "3. Justifique por qué ha elegido las estructuras de datos que ha elegido."
   ]
  },
  {
   "cell_type": "markdown",
   "metadata": {},
   "source": []
  },
  {
   "cell_type": "markdown",
   "metadata": {},
   "source": [
    "## Rúbrica de evaluación\n",
    "\n",
    "* Interés del problema (2 punto)\n",
    "    * Los problemas no sean triviales (es decir, que no sea simplemente implementar de forma directa un algoritmo tal cual los hemos visto en clase).\n",
    "    * La descripción del problema es clara y concisa.\n",
    "    * El problema tiene una solución no trivial.\n",
    "* Implementación (5 puntos)\n",
    "    * El código está bien estructurado y es fácil de leer.\n",
    "    * Se han utilizado funciones y/o clases para resolver el problema.\n",
    "    * Se han utilizado los algoritmos voraces, dividir y vencerás o programación dinámica.\n",
    "    * Se han utilizado estructuras de datos adecuadas.\n",
    "* Test (3 puntos)\n",
    "    * Se han implementado test unitarios para cada uno de los problemas. \n",
    "    * Los tests unitarios son claros y abarcan muchos casos posibles.\n",
    "\n",
    "* Informe (multiplicativo)\n",
    "  * Complejidad temporal (4 puntos)\n",
    "  * Justificación de los algoritmos (3 puntos)\n",
    "  * Justificación de las estructuras de datos (3 puntos)"
   ]
  },
  {
   "cell_type": "markdown",
   "metadata": {},
   "source": []
  }
 ],
 "metadata": {
  "anaconda-cloud": {},
  "kernelspec": {
   "display_name": "Python 3",
   "language": "python",
   "name": "python3"
  },
  "language_info": {
   "codemirror_mode": {
    "name": "ipython",
    "version": 3
   },
   "file_extension": ".py",
   "mimetype": "text/x-python",
   "name": "python",
   "nbconvert_exporter": "python",
   "pygments_lexer": "ipython3",
   "version": "3.7.11"
  }
 },
 "nbformat": 4,
 "nbformat_minor": 1
}
